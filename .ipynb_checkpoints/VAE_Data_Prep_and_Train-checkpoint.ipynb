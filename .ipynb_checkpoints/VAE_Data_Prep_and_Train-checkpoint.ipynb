{
 "cells": [
  {
   "cell_type": "code",
   "execution_count": null,
   "metadata": {},
   "outputs": [],
   "source": [
    "# imports\n",
    "import tensorflow.compat.v1.keras.backend as K\n",
    "import tensorflow as tf\n",
    "tf.compat.v1.disable_eager_execution()\n",
    "from tensorflow import keras\n",
    "from tensorflow.keras.layers import Conv2D, Conv2DTranspose, Input, Flatten, Dense, Lambda, Reshape, MaxPooling2D, Dropout\n",
    "from tensorflow.keras.models import Model\n",
    "from tensorflow.keras.models import save_model\n",
    "from tensorflow.keras.datasets import mnist\n",
    "from tensorflow.keras import backend as K\n",
    "from tensorflow.keras.optimizers import Adam\n",
    "import numpy as np\n",
    "import matplotlib.pyplot as plt\n",
    "import os\n",
    "os.sys.path\n",
    "\n",
    "import pickle\n",
    "import joblib\n",
    "# added so that cv2 gets installed in kernal\n",
    " import sys\n",
    " !{sys.executable} -m pip install opencv-python\n",
    "# commented the above code, it started working, idk why\n",
    "# if code not working try uncommenting the above\n",
    "import cv2\n",
    "import random\n",
    "import glob"
   ]
  },
  {
   "cell_type": "markdown",
   "metadata": {},
   "source": [
    "# Data Processing\n",
    "\n",
    "## Getting data from Folder"
   ]
  },
  {
   "cell_type": "code",
   "execution_count": null,
   "metadata": {},
   "outputs": [],
   "source": [
    "os.chdir(\"images\")\n",
    "\n",
    "data_exists = os.path.exists(\"train_data.z\")\n",
    "\n",
    "IMG_SIZE = 128\n",
    "\n",
    "if not data_exists:\n",
    "    data = []\n",
    "    path = os.getcwd()\n",
    "    print(path)\n",
    "    \n",
    "    def create_data():\n",
    "        count = 0\n",
    "        for folder in os.listdir(path):\n",
    "            if \"train_data\" in folder:\n",
    "                continue\n",
    "            print(\"FOLDER: \", folder)\n",
    "            for filename in os.listdir(path + \"/\" + folder):\n",
    "                if (\".NEF\" in filename):\n",
    "                    temp_path = path + \"/\" + folder + \"/\" + filename\n",
    "                    try:\n",
    "                        img_array = cv2.imread(temp_path)\n",
    "                        img_array = cv2.cvtColor(img_array, cv2.COLOR_BGR2GRAY)\n",
    "                        img_array = cv2.resize(img_array, (IMG_SIZE, IMG_SIZE))\n",
    "                        data.append(img_array)\n",
    "                        count += 1\n",
    "                    except Exception as e:\n",
    "                        pass\n",
    "                    \n",
    "    create_data()\n",
    "else:\n",
    "    print(\"train_data.z exists, loading file...\")\n",
    "    train_data = joblib.load(\"train_data.z\")\n",
    "    "
   ]
  },
  {
   "cell_type": "code",
   "execution_count": null,
   "metadata": {},
   "outputs": [],
   "source": [
    "if not data_exists:\n",
    "    # can explore what the dataset has\n",
    "    plt.imshow(data[100])"
   ]
  },
  {
   "cell_type": "markdown",
   "metadata": {},
   "source": [
    "## Making Data Readable for Model"
   ]
  },
  {
   "cell_type": "code",
   "execution_count": null,
   "metadata": {},
   "outputs": [],
   "source": [
    "if not data_exists:\n",
    "    #Resizing the data\n",
    "\n",
    "    train_data = data\n",
    "    train_data = np.array(train_data).reshape(-1, IMG_SIZE, IMG_SIZE, 1)\n",
    "    train_data = train_data/255.0"
   ]
  },
  {
   "cell_type": "markdown",
   "metadata": {},
   "source": [
    "## Storing Processed Data"
   ]
  },
  {
   "cell_type": "code",
   "execution_count": null,
   "metadata": {},
   "outputs": [],
   "source": [
    "if not data_exists:\n",
    "    joblib.dump(train_data, \"train_data.z\")"
   ]
  },
  {
   "cell_type": "markdown",
   "metadata": {},
   "source": [
    "## Info On Picture Data"
   ]
  },
  {
   "cell_type": "code",
   "execution_count": null,
   "metadata": {},
   "outputs": [],
   "source": [
    "# General Info:\n",
    "print(\"Number of Images:\", len(train_data))\n",
    "print(\"Shape of each data item:\", train_data[0].shape)\n",
    "print(train_data[0][10])\n",
    "# First couple of items should be:\n",
    "'''\n",
    "[[0.01568627]\n",
    " [0.01568627]\n",
    " [0.01960784]\n",
    " [0.01568627]\n",
    " [0.01568627]\n",
    "...\n",
    "'''"
   ]
  },
  {
   "cell_type": "code",
   "execution_count": null,
   "metadata": {},
   "outputs": [],
   "source": [
    "# look at some images\n",
    "def plotImages(images_arr):\n",
    "    fig, axes =  plt.subplots(1, 10, figsize=(30,30))\n",
    "    axes = axes.flatten()\n",
    "    for img, ax in zip(images_arr, axes):\n",
    "        ax.imshow(np.squeeze(img)) # added squeeze to make it work\n",
    "        ax.axis('off')\n",
    "    plt.tight_layout()\n",
    "    plt.show()\n",
    "    \n",
    "plotImages(train_data)"
   ]
  },
  {
   "cell_type": "markdown",
   "metadata": {},
   "source": []
  },
  {
   "cell_type": "code",
   "execution_count": null,
   "metadata": {},
   "outputs": [],
   "source": []
  },
  {
   "cell_type": "markdown",
   "metadata": {},
   "source": []
  },
  {
   "cell_type": "code",
   "execution_count": null,
   "metadata": {},
   "outputs": [],
   "source": [
    "latent_dim = 2048\n",
    "\n",
    "input_img = Input(shape=input_shape, name='encoder_input')\n",
    "x = Conv2D(64, 3, padding='same', activation='relu')(input_img)\n",
    "x = MaxPooling2D((2,2), padding='same')(x)\n",
    "x = Dropout(0.2)(x)\n",
    "x = Conv2D(128, 3, padding='same', activation='relu')(x)\n",
    "x = MaxPooling2D((2,2),padding='same')(x)\n",
    "x = Dropout(0.2)(x)\n",
    "x = Conv2D()"
   ]
  }
 ],
 "metadata": {
  "kernelspec": {
   "display_name": "Python 3",
   "language": "python",
   "name": "python3"
  },
  "language_info": {
   "codemirror_mode": {
    "name": "ipython",
    "version": 3
   },
   "file_extension": ".py",
   "mimetype": "text/x-python",
   "name": "python",
   "nbconvert_exporter": "python",
   "pygments_lexer": "ipython3",
   "version": "3.7.3"
  }
 },
 "nbformat": 4,
 "nbformat_minor": 2
}
